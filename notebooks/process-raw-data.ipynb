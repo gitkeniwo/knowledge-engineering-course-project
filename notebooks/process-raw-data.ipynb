{
 "cells": [
  {
   "cell_type": "code",
   "execution_count": 11,
   "metadata": {},
   "outputs": [],
   "source": [
    "import pandas as pd\n",
    "import numpy as np\n",
    "\n",
    "import sys\n",
    "sys.path.append('..')"
   ]
  },
  {
   "cell_type": "code",
   "execution_count": 12,
   "metadata": {},
   "outputs": [],
   "source": [
    "from utils.visualization import plot_kg\n",
    "# import success"
   ]
  },
  {
   "cell_type": "markdown",
   "metadata": {},
   "source": [
    "# Preprocessing"
   ]
  },
  {
   "cell_type": "code",
   "execution_count": null,
   "metadata": {},
   "outputs": [],
   "source": [
    "employment_data = pd.read_csv(r'your path')"
   ]
  },
  {
   "cell_type": "code",
   "execution_count": null,
   "metadata": {},
   "outputs": [],
   "source": [
    "employment_data"
   ]
  },
  {
   "cell_type": "code",
   "execution_count": null,
   "metadata": {},
   "outputs": [],
   "source": [
    "education_data = pd.read_csv('your path')"
   ]
  },
  {
   "cell_type": "code",
   "execution_count": null,
   "metadata": {},
   "outputs": [],
   "source": [
    "education_data"
   ]
  },
  {
   "cell_type": "code",
   "execution_count": null,
   "metadata": {},
   "outputs": [],
   "source": [
    "socio_economic_data = pd.read_csv('your path')"
   ]
  },
  {
   "cell_type": "code",
   "execution_count": null,
   "metadata": {},
   "outputs": [],
   "source": [
    "socio_economic_data"
   ]
  },
  {
   "cell_type": "code",
   "execution_count": null,
   "metadata": {},
   "outputs": [],
   "source": [
    "european_countries = []\n",
    "\n",
    "for ind in socio_economic_data.index:\n",
    "    x = \"europe\" in socio_economic_data[\"regionUN\"][ind].lower()\n",
    "    if x:\n",
    "        if socio_economic_data[\"country\"][ind].lower() in european_countries:\n",
    "            continue\n",
    "        else:\n",
    "            european_countries.append(socio_economic_data[\"country\"][ind].lower())\n"
   ]
  },
  {
   "cell_type": "code",
   "execution_count": null,
   "metadata": {},
   "outputs": [],
   "source": [
    "european_countries"
   ]
  },
  {
   "cell_type": "code",
   "execution_count": null,
   "metadata": {},
   "outputs": [],
   "source": [
    "socio_economic_data['Country Name Lower'] = socio_economic_data['country'].str.lower()\n",
    "europe_df_socio = socio_economic_data[socio_economic_data['Country Name Lower'].isin(european_countries)]\n",
    "\n",
    "europe_df_socio.drop(columns=['Country Name Lower'], inplace=True)\n",
    "\n",
    "print(europe_df_socio)"
   ]
  },
  {
   "cell_type": "code",
   "execution_count": null,
   "metadata": {},
   "outputs": [],
   "source": [
    "europe_df_socio.to_csv(r'your path')"
   ]
  },
  {
   "cell_type": "code",
   "execution_count": null,
   "metadata": {},
   "outputs": [],
   "source": [
    "education_data['Country Name Lower'] = education_data['Country Name'].str.lower()\n",
    "europe_df = education_data[education_data['Country Name Lower'].isin(european_countries)]\n",
    "\n",
    "europe_df.drop(columns=['Country Name Lower'], inplace=True)\n",
    "\n",
    "print(europe_df)"
   ]
  },
  {
   "cell_type": "code",
   "execution_count": null,
   "metadata": {},
   "outputs": [],
   "source": [
    "europe_df.to_csv(r'your path')"
   ]
  },
  {
   "cell_type": "code",
   "execution_count": null,
   "metadata": {},
   "outputs": [],
   "source": [
    "employment_data"
   ]
  },
  {
   "cell_type": "code",
   "execution_count": null,
   "metadata": {},
   "outputs": [],
   "source": [
    "employment_data['Country Name Lower'] = employment_data['Country Name'].str.lower()\n",
    "europe_df_employment = employment_data[employment_data['Country Name Lower'].isin(european_countries)]\n",
    "\n",
    "europe_df_employment.drop(columns=['Country Name Lower'], inplace=True)\n",
    "\n",
    "print(europe_df_employment)"
   ]
  },
  {
   "cell_type": "code",
   "execution_count": null,
   "metadata": {},
   "outputs": [],
   "source": [
    "europe_df_employment.to_csv(r'your path')"
   ]
  }
 ],
 "metadata": {
  "kernelspec": {
   "display_name": "Python 3",
   "language": "python",
   "name": "python3"
  },
  "language_info": {
   "codemirror_mode": {
    "name": "ipython",
    "version": 3
   },
   "file_extension": ".py",
   "mimetype": "text/x-python",
   "name": "python",
   "nbconvert_exporter": "python",
   "pygments_lexer": "ipython3",
   "version": "3.1.undefined"
  }
 },
 "nbformat": 4,
 "nbformat_minor": 2
}
